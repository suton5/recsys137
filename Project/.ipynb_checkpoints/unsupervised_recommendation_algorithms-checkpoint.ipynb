{
 "cells": [
  {
   "cell_type": "code",
   "execution_count": 1,
   "metadata": {},
   "outputs": [
    {
     "name": "stderr",
     "output_type": "stream",
     "text": [
      "C:\\ProgramData\\Anaconda3\\lib\\site-packages\\tqdm\\autonotebook\\__init__.py:14: TqdmExperimentalWarning: Using `tqdm.autonotebook.tqdm` in notebook mode. Use `tqdm.tqdm` instead to force console mode (e.g. in jupyter console)\n",
      "  \" (e.g. in jupyter console)\", TqdmExperimentalWarning)\n"
     ]
    }
   ],
   "source": [
    "import pandas as pd\n",
    "import numpy as np\n",
    "import scipy\n",
    "from sklearn.cluster import KMeans\n",
    "from sklearn.mixture import GaussianMixture\n",
    "from sklearn.neighbors import NearestNeighbors\n",
    "from sklearn.decomposition import PCA\n",
    "from sklearn.preprocessing import StandardScaler\n",
    "from sklearn.model_selection import train_test_split\n",
    "from sklearn.metrics import roc_auc_score,accuracy_score,silhouette_score\n",
    "from pandas.plotting import scatter_matrix\n",
    "from tqdm.autonotebook import trange, tqdm\n",
    "import matplotlib.pyplot as plt\n",
    "%matplotlib inline"
   ]
  },
  {
   "cell_type": "code",
   "execution_count": 2,
   "metadata": {},
   "outputs": [
    {
     "name": "stdout",
     "output_type": "stream",
     "text": [
      "2.0.0\n"
     ]
    }
   ],
   "source": [
    "# TensorFlow and tf.keras\n",
    "import tensorflow as tf\n",
    "\n",
    "print(tf.__version__)  # You should see a 2.0.0 here!"
   ]
  },
  {
   "cell_type": "markdown",
   "metadata": {},
   "source": [
    "### Preprocessing\n",
    "We read in the songs data, with all required attributes. We then prepare a Numpy array of the required numerical values, which is standardised to prevent any one attribute from dominating."
   ]
  },
  {
   "cell_type": "code",
   "execution_count": 3,
   "metadata": {},
   "outputs": [],
   "source": [
    "def preprocess_numeric(path):\n",
    "    '''Read in songs CSV and output Numpy array of the numeric columns after standardising.'''\n",
    "    df = pd.read_csv(path)\n",
    "    df_numeric = df[['danceability','energy','loudness','speechiness','acousticness','instrumentalness',\\\n",
    "        'liveness','valence','tempo']]\n",
    "#     df_numeric = df[['danceability', 'instrumentalness','valence']]\n",
    "    X_scaled = StandardScaler().fit_transform(df_numeric)\n",
    "    \n",
    "    return df, np.array(df_numeric), X_scaled"
   ]
  },
  {
   "cell_type": "code",
   "execution_count": 4,
   "metadata": {},
   "outputs": [],
   "source": [
    "df, X_unscaled, X_train = preprocess_numeric('../test_data/songs620.csv')"
   ]
  },
  {
   "cell_type": "markdown",
   "metadata": {},
   "source": [
    "### Exploratory Data Analysis\n",
    "We can plot the correlation scatters for all attributes. Note that features like energy and loudness seem to feature collinearity. We can choose to deal with this by either dropping one of the attributes or by downscaling one."
   ]
  },
  {
   "cell_type": "code",
   "execution_count": null,
   "metadata": {},
   "outputs": [],
   "source": [
    "cor_columns = ['danceability','energy','loudness','speechiness','acousticness','instrumentalness',\\\n",
    "        'liveness','valence','tempo']\n",
    "scatter_matrix(df[cor_columns], figsize=(40, 40))\n",
    "plt.show()"
   ]
  },
  {
   "cell_type": "markdown",
   "metadata": {},
   "source": [
    "Since the data has already been standardised, we can also compute the PCA vectors and visualise all pairs in a matrix. This would give some intuition for the number of clusters we might expect in the data."
   ]
  },
  {
   "cell_type": "code",
   "execution_count": null,
   "metadata": {},
   "outputs": [],
   "source": [
    "pca=PCA().fit(X_train)\n",
    "pca_X_train=pca.transform(X_train)"
   ]
  },
  {
   "cell_type": "code",
   "execution_count": null,
   "metadata": {},
   "outputs": [],
   "source": [
    "fig, ax=plt.subplots(9,9, figsize=(40,40))\n",
    "for i in range(9):\n",
    "    for j in range(9):\n",
    "        ax[i,j].scatter(pca_X_train[:,i], pca_X_train[:,j], alpha=0.1)\n",
    "plt.show()"
   ]
  },
  {
   "cell_type": "markdown",
   "metadata": {},
   "source": [
    "We see roughly 3 clusters, and can now fit these using K-means to get some intuition. We note that the learned cluster centers correspond correctly to the 3 clusters we visually saw in the PCA projections."
   ]
  },
  {
   "cell_type": "code",
   "execution_count": null,
   "metadata": {},
   "outputs": [],
   "source": [
    "kmeans = KMeans(n_clusters=3, random_state=0).fit(PCA().fit_transform(X_unscaled))\n",
    "pd.value_counts(kmeans.labels_)"
   ]
  },
  {
   "cell_type": "code",
   "execution_count": null,
   "metadata": {},
   "outputs": [],
   "source": [
    "plt.figure(figsize=(12,8))\n",
    "plt.scatter(PCA().fit_transform(X_unscaled)[:,0], PCA().fit_transform(X_unscaled)[:,1], alpha=0.1)\n",
    "plt.scatter(kmeans.cluster_centers_[:,0], kmeans.cluster_centers_[:,1], c='r', s=50)\n",
    "plt.xlabel('1st Principal Component')\n",
    "plt.ylabel('2nd Principal Component')\n",
    "plt.title('Scatter plot of first two PCA components', fontsize=15)\n",
    "plt.show()"
   ]
  },
  {
   "cell_type": "markdown",
   "metadata": {},
   "source": [
    "## Cold Start Problem\n",
    "This corresponds to creating a model to find a good choice of songs for new playlists with relatively few prior user inputs. This would involve the user essentially feeding in perhaps 3 songs that they like. Note that when a user indicates that they like a song, we only focus on the set of playlists that the song is a part of. We can then generate recommendations using techniques like\n",
    "\n",
    "- Gaussian Mixture Models (GMM)\n",
    "- Nearest Neighbours (NN)\n",
    "\n",
    "\n",
    "**GMM**\n",
    "\n",
    "We can fit the data to the chosen number of clusters we expect. Then, when the user likes a song, we can infer the posterior $p(z_n|x_n)$ to select the cluster that the song belongs to. We can then sample $p(x_n|z_n)$ to generate a new song from that cluster. Since this sample from a multivariate Gaussian may not exactly correspond to a song, we can use our pre-trained NN to find the closest match. This method requires us to select the number of clusters we expect in the data. We can select this using a combination of the Silhouette score and Bayesian Information Criterion. We demonstrate these on a subset of the data below.\n",
    "\n",
    "<em>Silhouette Score (SS)</em>\n",
    "\n",
    "This checks how compact and well separated the clusters are. The closer the SS is to $1$, the better the clustering is."
   ]
  },
  {
   "cell_type": "code",
   "execution_count": null,
   "metadata": {},
   "outputs": [],
   "source": [
    "query_songs_np = X_train[:100, :]"
   ]
  },
  {
   "cell_type": "code",
   "execution_count": null,
   "metadata": {},
   "outputs": [],
   "source": [
    "#code adapted from \n",
    "#https://towardsdatascience.com/gaussian-mixture-model-clusterization-how-to-select-the-number-of-components-clusters-553bef45f6e4\n",
    "\n",
    "def SelBest(arr, N):\n",
    "    '''Return the N smallest values.'''\n",
    "    idx=np.argsort(arr)[:N]\n",
    "    return arr[idx]\n",
    "\n",
    "n_clusters=np.arange(2, 20)\n",
    "sils=[]\n",
    "sils_err=[]\n",
    "bics=[]\n",
    "bics_err=[]\n",
    "iterations=20\n",
    "for n in tqdm(n_clusters):\n",
    "    tmp_sil=[]\n",
    "    tmp_bic=[]\n",
    "    for _ in range(iterations):\n",
    "        gmm=GaussianMixture(n, n_init=2).fit(query_songs_np) \n",
    "        labels=gmm.predict(query_songs_np)\n",
    "        sil=silhouette_score(query_songs_np, labels, metric='euclidean')\n",
    "        tmp_sil.append(sil)\n",
    "        tmp_bic.append(gmm.bic(query_songs_np))\n",
    "    val=np.mean(SelBest(np.array(tmp_sil), int(iterations/5)))\n",
    "    err=np.std(tmp_sil)\n",
    "    sils.append(val)\n",
    "    sils_err.append(err)\n",
    "    val=np.mean(SelBest(np.array(tmp_bic), int(iterations/5)))\n",
    "    err=np.std(tmp_bic)\n",
    "    bics.append(val)\n",
    "    bics_err.append(err)"
   ]
  },
  {
   "cell_type": "code",
   "execution_count": null,
   "metadata": {},
   "outputs": [],
   "source": [
    "plt.figure(figsize=(12,8))\n",
    "plt.plot(n_clusters, sils)\n",
    "plt.fill_between(n_clusters, np.array(sils)-np.array(sils_err), np.array(sils)+np.array(sils_err), alpha=0.4)\n",
    "plt.title(\"Silhouette Scores\", fontsize=20)\n",
    "plt.xticks(n_clusters)\n",
    "plt.xlabel(\"Number of clusters\")\n",
    "plt.ylabel(\"Score\")\n",
    "plt.show()"
   ]
  },
  {
   "cell_type": "markdown",
   "metadata": {},
   "source": [
    "<em>Bayesian Information Criterion (BIC)</em>\n",
    "\n",
    "This checks how well the GMM fits to the data, with a penalty for model complexity. The lower the BIC, the better the fit."
   ]
  },
  {
   "cell_type": "code",
   "execution_count": null,
   "metadata": {},
   "outputs": [],
   "source": [
    "plt.figure(figsize=(12,8))\n",
    "plt.plot(n_clusters, bics)\n",
    "plt.fill_between(n_clusters, np.array(bics)-np.array(bics_err), np.array(bics)+np.array(bics_err), alpha=0.4)\n",
    "plt.title(\"BIC Scores\", fontsize=20)\n",
    "plt.xticks(n_clusters)\n",
    "plt.xlabel(\"Number of clusters\")\n",
    "plt.ylabel(\"Score\")\n",
    "plt.show()"
   ]
  },
  {
   "cell_type": "markdown",
   "metadata": {},
   "source": [
    "We see that SS selects $clusters=2$ whereas BIC selects $clusters=6$. We make our final decision based on the integer mean of the two results, e.g. $4$."
   ]
  },
  {
   "cell_type": "markdown",
   "metadata": {},
   "source": [
    "**NN**\n",
    "\n",
    "We can simply run unsupervised NN on the data and recommend the $k$ closest songs corresponding to the song that the user likes.\n",
    "\n",
    "Note that we would expect NN to generate recommendations closer to the song input, since it is literally picking songs closest to the input, whereas GMM would recommend songs in the same cluster but potentially far away from the input. Our system could use both techniques together, with NN suggesting relevant similar songs and GMM suggesting relevant 'exploratory' songs for the user to better explore that cluster."
   ]
  },
  {
   "cell_type": "code",
   "execution_count": null,
   "metadata": {},
   "outputs": [],
   "source": [
    "def recommend_coldstart(song_input, songs_np, songs_df, num_recommend_gmm,\n",
    "        num_recommend_nn, gmm_clusters):\n",
    "    '''Generates song recommendations based on Nearest Neighbours and GMM sampling.\n",
    "\n",
    "    Inputs\n",
    "\n",
    "    song_inputs: Index of song that user likes.\n",
    "    songs_np: Numpy array of numeric attributes of dataset.\n",
    "    songs_df: Full dataframe\n",
    "\n",
    "    num_recommend_nn: Number of songs to recommend using NN.\n",
    "    num_recommend_gmm: Number of songs to recommend using GMM sampling.\n",
    "    gmm_clusters: Number of clusters for GMM model. Will find optimal if specified as 0.\n",
    "\n",
    "    Outputs\n",
    "\n",
    "    idx: Indices corresponding to data subset for playlists that contain query song.\n",
    "    gmm_recc: num_recommend_gmm Numpy array containing indices of the recommended songs using GMM.\n",
    "    nn_recc: num_recommend_nn Numpy array containing indices of the recommended songs using NN.\n",
    "    '''\n",
    "\n",
    "    query_song = songs_np[song_input]\n",
    "    playlist_idx = songs_df[songs_df['track_uri'] == songs_df.iloc[song_input]['track_uri']]['pid'].values\n",
    "    query_songs_df = songs_df[songs_df['pid'].isin(playlist_idx)]\n",
    "    idx = query_songs_df.drop_duplicates(subset=['track_uri']).index.values\n",
    "    query_songs_np = songs_np[idx]\n",
    "\n",
    "    if gmm_clusters==0:\n",
    "        #Do tuning\n",
    "        print(\"Tuning hyperparameters for GMM.\")\n",
    "\n",
    "        n_clusters=np.arange(2, 20)\n",
    "        sils=[]\n",
    "        bics=[]\n",
    "        iterations=20\n",
    "        for n in tqdm(n_clusters):\n",
    "            tmp_sil=[]\n",
    "            tmp_bic=[]\n",
    "            for _ in range(iterations):\n",
    "                gmm=GaussianMixture(n, n_init=2).fit(query_songs_np)\n",
    "                labels=gmm.predict(query_songs_np)\n",
    "                sil=silhouette_score(query_songs_np, labels, metric='euclidean')\n",
    "                tmp_sil.append(sil)\n",
    "                tmp_bic.append(gmm.bic(query_songs_np))\n",
    "            val=np.mean(SelBest(np.array(tmp_sil), int(iterations/5)))\n",
    "            sils.append(val)\n",
    "            val=np.mean(SelBest(np.array(tmp_bic), int(iterations/5)))\n",
    "            bics.append(val)\n",
    "        gmm_clusters = int((n_clusters[np.argmin(bics)] + n_clusters[np.argmax(sils)])/2)\n",
    "\n",
    "        print(\"Optimal number of clusters: {}.\".format(gmm_clusters))\n",
    "\n",
    "    print(\"Fitting models.\")\n",
    "\n",
    "    gmm = GaussianMixture(n_components=gmm_clusters).fit(query_songs_np)\n",
    "    nn = NearestNeighbors().fit(query_songs_np)\n",
    "\n",
    "    print(\"Generating recommendations.\")\n",
    "\n",
    "    #GMM sampling\n",
    "    label_gmm = gmm.predict(query_song.reshape(1,-1))\n",
    "    samples = np.random.multivariate_normal(gmm.means_[0], gmm.covariances_[0], num_recommend_gmm)\n",
    "    dist, indices = nn.kneighbors(samples, n_neighbors=1)\n",
    "    gmm_recc = indices.flatten()\n",
    "\n",
    "    #NN\n",
    "    dist, indices = nn.kneighbors(query_song.reshape(1,-1), n_neighbors=num_recommend_nn+1)\n",
    "    nn_recc = indices[:,1:][0]\n",
    "\n",
    "    return idx, nn_recc, gmm_recc"
   ]
  },
  {
   "cell_type": "markdown",
   "metadata": {},
   "source": [
    "We now try this approach out on a random song from the dataset."
   ]
  },
  {
   "cell_type": "code",
   "execution_count": 11,
   "metadata": {},
   "outputs": [
    {
     "data": {
      "text/html": [
       "<div>\n",
       "<style scoped>\n",
       "    .dataframe tbody tr th:only-of-type {\n",
       "        vertical-align: middle;\n",
       "    }\n",
       "\n",
       "    .dataframe tbody tr th {\n",
       "        vertical-align: top;\n",
       "    }\n",
       "\n",
       "    .dataframe thead th {\n",
       "        text-align: right;\n",
       "    }\n",
       "</style>\n",
       "<table border=\"1\" class=\"dataframe\">\n",
       "  <thead>\n",
       "    <tr style=\"text-align: right;\">\n",
       "      <th></th>\n",
       "      <th>Unnamed: 0</th>\n",
       "      <th>pid</th>\n",
       "      <th>pos</th>\n",
       "      <th>artist_name</th>\n",
       "      <th>track_uri</th>\n",
       "      <th>artist_uri</th>\n",
       "      <th>track_name</th>\n",
       "      <th>album_uri</th>\n",
       "      <th>duration_ms</th>\n",
       "      <th>album_name</th>\n",
       "      <th>...</th>\n",
       "      <th>instrumentalness</th>\n",
       "      <th>liveness</th>\n",
       "      <th>valence</th>\n",
       "      <th>tempo</th>\n",
       "      <th>type</th>\n",
       "      <th>id</th>\n",
       "      <th>uri</th>\n",
       "      <th>track_href</th>\n",
       "      <th>analysis_url</th>\n",
       "      <th>time_signature</th>\n",
       "    </tr>\n",
       "  </thead>\n",
       "  <tbody>\n",
       "    <tr>\n",
       "      <td>11997</td>\n",
       "      <td>11997</td>\n",
       "      <td>185</td>\n",
       "      <td>59</td>\n",
       "      <td>A$AP Ferg</td>\n",
       "      <td>spotify:track:4dVpf9jZjcORqGTLUaeYj9</td>\n",
       "      <td>spotify:artist:5dHt1vcEm9qb8fCyLcB3HL</td>\n",
       "      <td>Plain Jane</td>\n",
       "      <td>spotify:album:0tQ7Iu6EicQTPyhYRNWjaT</td>\n",
       "      <td>173600</td>\n",
       "      <td>Still Striving</td>\n",
       "      <td>...</td>\n",
       "      <td>0.0</td>\n",
       "      <td>0.087</td>\n",
       "      <td>0.52</td>\n",
       "      <td>170.142</td>\n",
       "      <td>audio_features</td>\n",
       "      <td>4dVpf9jZjcORqGTLUaeYj9</td>\n",
       "      <td>spotify:track:4dVpf9jZjcORqGTLUaeYj9</td>\n",
       "      <td>https://api.spotify.com/v1/tracks/4dVpf9jZjcOR...</td>\n",
       "      <td>https://api.spotify.com/v1/audio-analysis/4dVp...</td>\n",
       "      <td>4</td>\n",
       "    </tr>\n",
       "  </tbody>\n",
       "</table>\n",
       "<p>1 rows × 27 columns</p>\n",
       "</div>"
      ],
      "text/plain": [
       "       Unnamed: 0  pid  pos artist_name                             track_uri  \\\n",
       "11997       11997  185   59   A$AP Ferg  spotify:track:4dVpf9jZjcORqGTLUaeYj9   \n",
       "\n",
       "                                  artist_uri  track_name  \\\n",
       "11997  spotify:artist:5dHt1vcEm9qb8fCyLcB3HL  Plain Jane   \n",
       "\n",
       "                                  album_uri  duration_ms      album_name  ...  \\\n",
       "11997  spotify:album:0tQ7Iu6EicQTPyhYRNWjaT       173600  Still Striving  ...   \n",
       "\n",
       "       instrumentalness  liveness  valence    tempo            type  \\\n",
       "11997               0.0     0.087     0.52  170.142  audio_features   \n",
       "\n",
       "                           id                                   uri  \\\n",
       "11997  4dVpf9jZjcORqGTLUaeYj9  spotify:track:4dVpf9jZjcORqGTLUaeYj9   \n",
       "\n",
       "                                              track_href  \\\n",
       "11997  https://api.spotify.com/v1/tracks/4dVpf9jZjcOR...   \n",
       "\n",
       "                                            analysis_url  time_signature  \n",
       "11997  https://api.spotify.com/v1/audio-analysis/4dVp...               4  \n",
       "\n",
       "[1 rows x 27 columns]"
      ]
     },
     "execution_count": 11,
     "metadata": {},
     "output_type": "execute_result"
    }
   ],
   "source": [
    "df.loc[[11997]]"
   ]
  },
  {
   "cell_type": "code",
   "execution_count": 12,
   "metadata": {},
   "outputs": [
    {
     "name": "stdout",
     "output_type": "stream",
     "text": [
      "Fitting models.\n",
      "Generating recommendations.\n"
     ]
    }
   ],
   "source": [
    "idx, nn_recc, gmm_recc = recommend_coldstart(11997, X_train, df, 10, 10, 8)"
   ]
  },
  {
   "cell_type": "markdown",
   "metadata": {},
   "source": [
    "Inspecting the recommendations from both methods below, we see that this is in general, a good baseline model."
   ]
  },
  {
   "cell_type": "code",
   "execution_count": 13,
   "metadata": {},
   "outputs": [
    {
     "data": {
      "text/html": [
       "<div>\n",
       "<style scoped>\n",
       "    .dataframe tbody tr th:only-of-type {\n",
       "        vertical-align: middle;\n",
       "    }\n",
       "\n",
       "    .dataframe tbody tr th {\n",
       "        vertical-align: top;\n",
       "    }\n",
       "\n",
       "    .dataframe thead th {\n",
       "        text-align: right;\n",
       "    }\n",
       "</style>\n",
       "<table border=\"1\" class=\"dataframe\">\n",
       "  <thead>\n",
       "    <tr style=\"text-align: right;\">\n",
       "      <th></th>\n",
       "      <th>track_name</th>\n",
       "      <th>artist_name</th>\n",
       "    </tr>\n",
       "  </thead>\n",
       "  <tbody>\n",
       "    <tr>\n",
       "      <td>11977</td>\n",
       "      <td>Mask Off - Remix</td>\n",
       "      <td>Future</td>\n",
       "    </tr>\n",
       "    <tr>\n",
       "      <td>9400</td>\n",
       "      <td>X (feat. Future)</td>\n",
       "      <td>21 Savage</td>\n",
       "    </tr>\n",
       "    <tr>\n",
       "      <td>11975</td>\n",
       "      <td>Mask Off</td>\n",
       "      <td>Future</td>\n",
       "    </tr>\n",
       "    <tr>\n",
       "      <td>11975</td>\n",
       "      <td>Mask Off</td>\n",
       "      <td>Future</td>\n",
       "    </tr>\n",
       "    <tr>\n",
       "      <td>11977</td>\n",
       "      <td>Mask Off - Remix</td>\n",
       "      <td>Future</td>\n",
       "    </tr>\n",
       "    <tr>\n",
       "      <td>9407</td>\n",
       "      <td>MFN Right</td>\n",
       "      <td>2 Chainz</td>\n",
       "    </tr>\n",
       "    <tr>\n",
       "      <td>19264</td>\n",
       "      <td>Up</td>\n",
       "      <td>Desiigner</td>\n",
       "    </tr>\n",
       "    <tr>\n",
       "      <td>11975</td>\n",
       "      <td>Mask Off</td>\n",
       "      <td>Future</td>\n",
       "    </tr>\n",
       "    <tr>\n",
       "      <td>9536</td>\n",
       "      <td>Wassup Bro!</td>\n",
       "      <td>Craig Xen</td>\n",
       "    </tr>\n",
       "    <tr>\n",
       "      <td>9400</td>\n",
       "      <td>X (feat. Future)</td>\n",
       "      <td>21 Savage</td>\n",
       "    </tr>\n",
       "  </tbody>\n",
       "</table>\n",
       "</div>"
      ],
      "text/plain": [
       "             track_name artist_name\n",
       "11977  Mask Off - Remix      Future\n",
       "9400   X (feat. Future)   21 Savage\n",
       "11975          Mask Off      Future\n",
       "11975          Mask Off      Future\n",
       "11977  Mask Off - Remix      Future\n",
       "9407          MFN Right    2 Chainz\n",
       "19264                Up   Desiigner\n",
       "11975          Mask Off      Future\n",
       "9536        Wassup Bro!   Craig Xen\n",
       "9400   X (feat. Future)   21 Savage"
      ]
     },
     "execution_count": 13,
     "metadata": {},
     "output_type": "execute_result"
    }
   ],
   "source": [
    "# GMM\n",
    "df.iloc[idx].iloc[gmm_recc][['track_name', 'artist_name']]"
   ]
  },
  {
   "cell_type": "code",
   "execution_count": 15,
   "metadata": {},
   "outputs": [
    {
     "data": {
      "text/html": [
       "<div>\n",
       "<style scoped>\n",
       "    .dataframe tbody tr th:only-of-type {\n",
       "        vertical-align: middle;\n",
       "    }\n",
       "\n",
       "    .dataframe tbody tr th {\n",
       "        vertical-align: top;\n",
       "    }\n",
       "\n",
       "    .dataframe thead th {\n",
       "        text-align: right;\n",
       "    }\n",
       "</style>\n",
       "<table border=\"1\" class=\"dataframe\">\n",
       "  <thead>\n",
       "    <tr style=\"text-align: right;\">\n",
       "      <th></th>\n",
       "      <th>track_name</th>\n",
       "      <th>artist_name</th>\n",
       "    </tr>\n",
       "  </thead>\n",
       "  <tbody>\n",
       "    <tr>\n",
       "      <td>9471</td>\n",
       "      <td>XO TOUR Llif3</td>\n",
       "      <td>Lil Uzi Vert</td>\n",
       "    </tr>\n",
       "    <tr>\n",
       "      <td>19277</td>\n",
       "      <td>Patty Cake</td>\n",
       "      <td>Kodak Black</td>\n",
       "    </tr>\n",
       "    <tr>\n",
       "      <td>19348</td>\n",
       "      <td>Undefeated (feat. 21 Savage)</td>\n",
       "      <td>A Boogie Wit da Hoodie</td>\n",
       "    </tr>\n",
       "    <tr>\n",
       "      <td>11974</td>\n",
       "      <td>Seven Million (feat. Future)</td>\n",
       "      <td>Lil Uzi Vert</td>\n",
       "    </tr>\n",
       "    <tr>\n",
       "      <td>49866</td>\n",
       "      <td>Yamborghini High</td>\n",
       "      <td>A$AP Mob</td>\n",
       "    </tr>\n",
       "    <tr>\n",
       "      <td>19252</td>\n",
       "      <td>Icy Lil Bitch</td>\n",
       "      <td>Gucci Mane</td>\n",
       "    </tr>\n",
       "    <tr>\n",
       "      <td>19258</td>\n",
       "      <td>Dance (A$$)</td>\n",
       "      <td>Big Sean</td>\n",
       "    </tr>\n",
       "    <tr>\n",
       "      <td>49891</td>\n",
       "      <td>What Do You Do</td>\n",
       "      <td>A$AP Ferg</td>\n",
       "    </tr>\n",
       "    <tr>\n",
       "      <td>9440</td>\n",
       "      <td>Look At Me Now</td>\n",
       "      <td>Chris Brown</td>\n",
       "    </tr>\n",
       "    <tr>\n",
       "      <td>19200</td>\n",
       "      <td>Starboy</td>\n",
       "      <td>The Weeknd</td>\n",
       "    </tr>\n",
       "  </tbody>\n",
       "</table>\n",
       "</div>"
      ],
      "text/plain": [
       "                         track_name             artist_name\n",
       "9471                  XO TOUR Llif3            Lil Uzi Vert\n",
       "19277                    Patty Cake             Kodak Black\n",
       "19348  Undefeated (feat. 21 Savage)  A Boogie Wit da Hoodie\n",
       "11974  Seven Million (feat. Future)            Lil Uzi Vert\n",
       "49866              Yamborghini High                A$AP Mob\n",
       "19252                 Icy Lil Bitch              Gucci Mane\n",
       "19258                   Dance (A$$)                Big Sean\n",
       "49891                What Do You Do               A$AP Ferg\n",
       "9440                 Look At Me Now             Chris Brown\n",
       "19200                       Starboy              The Weeknd"
      ]
     },
     "execution_count": 15,
     "metadata": {},
     "output_type": "execute_result"
    }
   ],
   "source": [
    "# NN\n",
    "df.iloc[idx].iloc[nn_recc][['track_name', 'artist_name']]"
   ]
  },
  {
   "cell_type": "markdown",
   "metadata": {},
   "source": [
    "## Automatic Playlist Generation\n",
    "This corresponds to creating a model for song discovery on the basis of the base playlists and user-specified context information. The current system is able to take in the moods of\n",
    "\n",
    "- Sleep\n",
    "- Party\n",
    "- Angry\n",
    "- Sad\n",
    "\n",
    "We have two methods to tackle this:\n",
    "\n",
    "- Obtaining sample tracks corresponding to moods\n",
    "- Using a neural network to learn the mapping from song features to moods\n",
    "\n",
    "**Sample Tracks**\n",
    "\n",
    "This works by first accessing additional playlists that we have scraped corresponding to these moods. Random songs are then sampled from these playlists (which correspond to the relevant moods) and fed through our models from the previous section, generating relevant recommendations that cater to the required mood. "
   ]
  },
  {
   "cell_type": "code",
   "execution_count": 17,
   "metadata": {},
   "outputs": [],
   "source": [
    "# angry -> 0, party -> 1, sad -> 2, sleep -> 3\n",
    "\n",
    "df_nn_angry, X_unscaled_nn_angry, X_nn_angry = preprocess_numeric('../test_data/angry.csv')\n",
    "df_nn_party, X_unscaled_nn_party, X_nn_party = preprocess_numeric('../test_data/party.csv')\n",
    "df_nn_sad, X_unscaled_nn_sad, X_nn_sad = preprocess_numeric('../test_data/sad.csv')\n",
    "df_nn_sleep, X_unscaled_nn_sleep, X_nn_sleep = preprocess_numeric('../test_data/sleep.csv')"
   ]
  },
  {
   "cell_type": "code",
   "execution_count": 21,
   "metadata": {},
   "outputs": [
    {
     "data": {
      "text/plain": [
       "((163, 9), (401, 9), (488, 9), (103, 9))"
      ]
     },
     "execution_count": 21,
     "metadata": {},
     "output_type": "execute_result"
    }
   ],
   "source": [
    "X_nn_angry.shape, X_nn_party.shape, X_nn_sad.shape, X_nn_sleep.shape"
   ]
  },
  {
   "cell_type": "code",
   "execution_count": 40,
   "metadata": {},
   "outputs": [],
   "source": [
    "X_nn = np.vstack((X_nn_angry, X_nn_party, X_nn_sad, X_nn_sleep))\n",
    "y_nn = np.concatenate((np.zeros(X_nn_angry.shape[0]), \\\n",
    "                       np.ones(X_nn_party.shape[0]), \\\n",
    "                       2*np.ones(X_nn_sad.shape[0]), \\\n",
    "                       3*np.ones(X_nn_sleep.shape[0])))\n",
    "\n",
    "assert X_nn.shape[0] == y_nn.shape[0]\n",
    "\n",
    "X_nn_train, X_nn_test, y_nn_train, y_nn_test = train_test_split(X_nn, y_nn, test_size=0.2, random_state=209)"
   ]
  },
  {
   "cell_type": "code",
   "execution_count": null,
   "metadata": {},
   "outputs": [],
   "source": [
    "def recommend_mood_sample(mood_input, songs_np, songs_df, num_recommend_gmm,\n",
    "        num_recommend_nn, gmm_clusters):\n",
    "    '''Generates song recommendations based on Nearest Neighbours and GMM sampling.\n",
    "\n",
    "    Inputs\n",
    "\n",
    "    mood_inputs: Mood of the songs that the user wants.\n",
    "    songs_np: Numpy array of numeric attributes of dataset.\n",
    "    songs_df: Full dataframe\n",
    "\n",
    "    num_recommend_nn: Number of songs to recommend using NN.\n",
    "    num_recommend_gmm: Number of songs to recommend using GMM sampling.\n",
    "    gmm_clusters: Number of clusters for GMM model. Will find optimal if specified as 0.\n",
    "\n",
    "    Outputs\n",
    "\n",
    "    idx: Indices corresponding to data subset for playlists that contain query song.\n",
    "    gmm_recc: num_recommend_gmm Numpy array containing indices of the recommended songs using GMM.\n",
    "    nn_recc: num_recommend_nn Numpy array containing indices of the recommended songs using NN.\n",
    "    '''\n",
    "    sample_playlist = pd.read_csv('test_data/'+mood_input+'.csv')\n",
    "    sample_song_size = 0\n",
    "    while sample_song_size == 0:\n",
    "        #keep resampling till we get a song in our playlist\n",
    "        sample_idx = np.random.randint(low=0, high=sample_playlist.shape[0], size=1)[0]\n",
    "        sample_trackuri = sample_playlist.iloc[sample_idx]['track_uri']\n",
    "        sample_song_idx = songs_df[songs_df['track_uri'] == sample_trackuri].index\n",
    "        sample_song_size = sample_song_idx.size\n",
    "    song_input = sample_song_idx[0]\n",
    "\n",
    "    query_song = songs_np[song_input]\n",
    "    playlist_idx = songs_df[songs_df['track_uri'] == songs_df.iloc[song_input]['track_uri']]['pid'].values\n",
    "    query_songs_df = songs_df[songs_df['pid'].isin(playlist_idx)]\n",
    "    idx = query_songs_df.drop_duplicates(subset=['track_uri']).index.values\n",
    "    query_songs_np = songs_np[idx]\n",
    "\n",
    "    if gmm_clusters==0:\n",
    "        #Do tuning\n",
    "        print(\"Tuning hyperparameters for GMM.\")\n",
    "\n",
    "        n_clusters=np.arange(2, 20)\n",
    "        sils=[]\n",
    "        bics=[]\n",
    "        iterations=20\n",
    "        for n in tqdm(n_clusters):\n",
    "            tmp_sil=[]\n",
    "            tmp_bic=[]\n",
    "            for _ in range(iterations):\n",
    "                gmm=GaussianMixture(n, n_init=2).fit(query_songs_np)\n",
    "                labels=gmm.predict(query_songs_np)\n",
    "                sil=silhouette_score(query_songs_np, labels, metric='euclidean')\n",
    "                tmp_sil.append(sil)\n",
    "                tmp_bic.append(gmm.bic(query_songs_np))\n",
    "            val=np.mean(SelBest(np.array(tmp_sil), int(iterations/5)))\n",
    "            sils.append(val)\n",
    "            val=np.mean(SelBest(np.array(tmp_bic), int(iterations/5)))\n",
    "            bics.append(val)\n",
    "        gmm_clusters = int((n_clusters[np.argmin(bics)] + n_clusters[np.argmax(sils)])/2)\n",
    "\n",
    "        print(\"Optimal number of clusters: {}.\".format(gmm_clusters))\n",
    "\n",
    "    print(\"Fitting models.\")\n",
    "\n",
    "    gmm = GaussianMixture(n_components=gmm_clusters).fit(query_songs_np)\n",
    "    nn = NearestNeighbors().fit(query_songs_np)\n",
    "\n",
    "    print(\"Generating recommendations.\")\n",
    "\n",
    "    #GMM sampling\n",
    "    label_gmm = gmm.predict(query_song.reshape(1,-1))\n",
    "    samples = np.random.multivariate_normal(gmm.means_[0], gmm.covariances_[0], num_recommend_gmm)\n",
    "    dist, indices = nn.kneighbors(samples, n_neighbors=1)\n",
    "    gmm_recc = indices.flatten()\n",
    "\n",
    "    #NN\n",
    "    dist, indices = nn.kneighbors(query_song.reshape(1,-1), n_neighbors=num_recommend_nn+1)\n",
    "    nn_recc = indices[:,1:][0]\n",
    "\n",
    "    return idx, nn_recc, gmm_recc"
   ]
  },
  {
   "cell_type": "markdown",
   "metadata": {},
   "source": [
    "**Neural Network**\n",
    "\n",
    "This works by first accessing additional playlists that we have scraped corresponding to these moods. A neural network is then trained to use the previously obtained song features to classify songs into the moods. This essentially does feature engineering and figures out what combinations of the features correspond to the different moods. This trained network will then be applied to the recommended songs from the previous section, and only songs catering to the required mood will be recommended."
   ]
  },
  {
   "cell_type": "code",
   "execution_count": 92,
   "metadata": {},
   "outputs": [],
   "source": [
    "model = tf.keras.Sequential([\n",
    "    tf.keras.layers.Dense(64, input_shape=(9,), activation='relu'),\n",
    "    tf.keras.layers.Dropout(0.1),\n",
    "    tf.keras.layers.Dense(64, activation='relu'),\n",
    "    tf.keras.layers.Dropout(0.1),\n",
    "    tf.keras.layers.Dense(4, activation='softmax')\n",
    "])\n",
    "\n",
    "model.compile(optimizer='adam',\n",
    "              loss='sparse_categorical_crossentropy',\n",
    "              metrics=['accuracy'])"
   ]
  },
  {
   "cell_type": "code",
   "execution_count": 93,
   "metadata": {},
   "outputs": [],
   "source": [
    "history = model.fit(X_nn_train, y_nn_train, batch_size=128, epochs=2000, validation_split=0.1, verbose=0)"
   ]
  },
  {
   "cell_type": "code",
   "execution_count": 94,
   "metadata": {},
   "outputs": [
    {
     "data": {
      "image/png": "[encoded data removed]",
      "text/plain": [
       "<Figure size 1152x360 with 2 Axes>"
      ]
     },
     "metadata": {
      "needs_background": "light"
     },
     "output_type": "display_data"
    }
   ],
   "source": [
    "# Plot training & validation loss values\n",
    "fig, ax = plt.subplots(1,2, figsize=(16,5))\n",
    "ax[0].plot(history.history['loss'])\n",
    "ax[0].plot(history.history['val_loss'])\n",
    "ax[0].set_title('Model loss')\n",
    "ax[0].set_ylabel('Loss')\n",
    "ax[0].set_xlabel('Epoch')\n",
    "ax[0].legend(['Train', 'Validation'])\n",
    "\n",
    "ax[1].plot(history.history['accuracy'])\n",
    "ax[1].plot(history.history['val_accuracy'])\n",
    "ax[1].set_title('Model accuracy')\n",
    "ax[1].set_ylabel('Accuracy')\n",
    "ax[1].set_xlabel('Epoch')\n",
    "ax[1].legend(['Train', 'Validation'])\n",
    "\n",
    "plt.show()"
   ]
  },
  {
   "cell_type": "code",
   "execution_count": 95,
   "metadata": {},
   "outputs": [
    {
     "name": "stdout",
     "output_type": "stream",
     "text": [
      "Training accuracy:  0.9783549783549783\n",
      "Test accuracy:  0.8138528138528138\n"
     ]
    }
   ],
   "source": [
    "print(\"Training accuracy: \", accuracy_score(y_nn_train, model.predict_classes(X_nn_train)))\n",
    "print(\"Test accuracy: \", accuracy_score(y_nn_test, model.predict_classes(X_nn_test)))"
   ]
  },
  {
   "cell_type": "markdown",
   "metadata": {},
   "source": [
    "There might be slight overfitting, as observed by the diverging train and validation loss, but we will just use this model and move on and judge the recommendations at the end. "
   ]
  },
  {
   "cell_type": "code",
   "execution_count": 131,
   "metadata": {},
   "outputs": [],
   "source": [
    "def recommend_mood_nn(mood_input, nn_model, songs_np, songs_df, num_recommend):\n",
    "    '''Generates song recommendations based on Nearest Neighbours and GMM sampling.\n",
    "\n",
    "    Inputs\n",
    "\n",
    "    mood_inputs: Mood of the songs that the user wants.\n",
    "    nn_model: The neural network model mapping features to mood.\n",
    "    songs_np: Numpy array of numeric attributes of dataset.\n",
    "    songs_df: Full dataframe\n",
    "\n",
    "    num_recommend: Number of songs to recommend.\n",
    "\n",
    "    Outputs\n",
    "\n",
    "    idx: Indices corresponding to data subset for playlists that contain query song.\n",
    "    gmm_recc: num_recommend_gmm Numpy array containing indices of the recommended songs using GMM.\n",
    "    nn_recc: num_recommend_nn Numpy array containing indices of the recommended songs using NN.\n",
    "    '''\n",
    "    idx = songs_df.drop_duplicates(subset=['track_uri']).index.values\n",
    "    nodup_songs_np = songs_np[idx]\n",
    "    y_pred = nn_model.predict_classes(nodup_songs_np)\n",
    "    if mood_input == 'angry':\n",
    "        check = 0, \n",
    "    elif mood_input == 'party':\n",
    "        check = 1, \n",
    "    elif mood_input == 'sad':\n",
    "        check = 2\n",
    "    else:\n",
    "        check = 3\n",
    "\n",
    "    rec_idx_all = np.argwhere(y_pred==check)\n",
    "    np.random.shuffle(rec_idx_all)\n",
    "    rec_idx = rec_idx_all[:num_recommend]\n",
    "\n",
    "    return idx, rec_idx.flatten()"
   ]
  },
  {
   "cell_type": "code",
   "execution_count": 135,
   "metadata": {},
   "outputs": [],
   "source": [
    "idx, rec = recommend_mood_nn('sad', model, X_train, df, 10)"
   ]
  },
  {
   "cell_type": "code",
   "execution_count": 136,
   "metadata": {},
   "outputs": [
    {
     "data": {
      "text/html": [
       "<div>\n",
       "<style scoped>\n",
       "    .dataframe tbody tr th:only-of-type {\n",
       "        vertical-align: middle;\n",
       "    }\n",
       "\n",
       "    .dataframe tbody tr th {\n",
       "        vertical-align: top;\n",
       "    }\n",
       "\n",
       "    .dataframe thead th {\n",
       "        text-align: right;\n",
       "    }\n",
       "</style>\n",
       "<table border=\"1\" class=\"dataframe\">\n",
       "  <thead>\n",
       "    <tr style=\"text-align: right;\">\n",
       "      <th></th>\n",
       "      <th>track_name</th>\n",
       "      <th>artist_name</th>\n",
       "    </tr>\n",
       "  </thead>\n",
       "  <tbody>\n",
       "    <tr>\n",
       "      <td>63933</td>\n",
       "      <td>Bendito Cielo</td>\n",
       "      <td>Grupo Libra</td>\n",
       "    </tr>\n",
       "    <tr>\n",
       "      <td>54454</td>\n",
       "      <td>Above All</td>\n",
       "      <td>Maranatha! Music</td>\n",
       "    </tr>\n",
       "    <tr>\n",
       "      <td>11818</td>\n",
       "      <td>I Kinda Miss You</td>\n",
       "      <td>The Manhattans</td>\n",
       "    </tr>\n",
       "    <tr>\n",
       "      <td>2122</td>\n",
       "      <td>I Tried</td>\n",
       "      <td>Bone Thugs-N-Harmony</td>\n",
       "    </tr>\n",
       "    <tr>\n",
       "      <td>12223</td>\n",
       "      <td>Hold My Hand</td>\n",
       "      <td>Jess Glynne</td>\n",
       "    </tr>\n",
       "    <tr>\n",
       "      <td>32782</td>\n",
       "      <td>C'mon Girl</td>\n",
       "      <td>Red Hot Chili Peppers</td>\n",
       "    </tr>\n",
       "    <tr>\n",
       "      <td>38629</td>\n",
       "      <td>Killin' Time</td>\n",
       "      <td>Clint Black</td>\n",
       "    </tr>\n",
       "    <tr>\n",
       "      <td>34910</td>\n",
       "      <td>Tu Pun Pun</td>\n",
       "      <td>El General</td>\n",
       "    </tr>\n",
       "    <tr>\n",
       "      <td>609</td>\n",
       "      <td>Goodbye - Acoustic Mixtape</td>\n",
       "      <td>Sam Hunt</td>\n",
       "    </tr>\n",
       "    <tr>\n",
       "      <td>59837</td>\n",
       "      <td>Drink as a Team</td>\n",
       "      <td>The Lacs</td>\n",
       "    </tr>\n",
       "  </tbody>\n",
       "</table>\n",
       "</div>"
      ],
      "text/plain": [
       "                       track_name            artist_name\n",
       "63933               Bendito Cielo            Grupo Libra\n",
       "54454                   Above All       Maranatha! Music\n",
       "11818            I Kinda Miss You         The Manhattans\n",
       "2122                      I Tried   Bone Thugs-N-Harmony\n",
       "12223                Hold My Hand            Jess Glynne\n",
       "32782                  C'mon Girl  Red Hot Chili Peppers\n",
       "38629                Killin' Time            Clint Black\n",
       "34910                  Tu Pun Pun             El General\n",
       "609    Goodbye - Acoustic Mixtape               Sam Hunt\n",
       "59837             Drink as a Team               The Lacs"
      ]
     },
     "execution_count": 136,
     "metadata": {},
     "output_type": "execute_result"
    }
   ],
   "source": [
    "# Neural Network\n",
    "df.iloc[idx].iloc[rec][['track_name', 'artist_name']]"
   ]
  },
  {
   "cell_type": "code",
   "execution_count": 134,
   "metadata": {},
   "outputs": [
    {
     "data": {
      "text/plain": [
       "array([    0,     1,     2, ..., 66259, 66260, 66262])"
      ]
     },
     "execution_count": 134,
     "metadata": {},
     "output_type": "execute_result"
    }
   ],
   "source": [
    "idx"
   ]
  },
  {
   "cell_type": "code",
   "execution_count": null,
   "metadata": {},
   "outputs": [],
   "source": []
  }
 ],
 "metadata": {
  "kernelspec": {
   "display_name": "Python 3",
   "language": "python",
   "name": "python3"
  },
  "language_info": {
   "codemirror_mode": {
    "name": "ipython",
    "version": 3
   },
   "file_extension": ".py",
   "mimetype": "text/x-python",
   "name": "python",
   "nbconvert_exporter": "python",
   "pygments_lexer": "ipython3",
   "version": "3.7.3"
  }
 },
 "nbformat": 4,
 "nbformat_minor": 2
}
